{
 "cells": [
  {
   "cell_type": "code",
   "execution_count": null,
   "metadata": {},
   "outputs": [],
   "source": [
    "import datetime\n",
    "\n",
    "#how to create dates\n",
    "d = datetime.date(2016, 7, 24)\n",
    "print(d)\n",
    "\n",
    "#local date\n",
    "tday = datetime.date.today()\n",
    "print(tday)\n"
   ]
  },
  {
   "cell_type": "code",
   "execution_count": null,
   "metadata": {},
   "outputs": [],
   "source": [
    "#local date\n",
    "import datetime\n",
    "\n",
    "tday = datetime.date.today()\n",
    "print(tday)\n"
   ]
  },
  {
   "cell_type": "code",
   "execution_count": 2,
   "metadata": {},
   "outputs": [
    {
     "name": "stdout",
     "output_type": "stream",
     "text": [
      "6\n",
      "7\n"
     ]
    }
   ],
   "source": [
    "#isoweekday is when monday is 1 and sunday is 7/ weekday is monday is 0 and sunday is 6\n",
    "#local date\n",
    "import datetime\n",
    "\n",
    "tday = datetime.date.today()\n",
    "print(tday.weekday())\n",
    "print(tday.isoweekday())\n"
   ]
  },
  {
   "cell_type": "code",
   "execution_count": null,
   "metadata": {},
   "outputs": [],
   "source": [
    "import datetime\n",
    "\n",
    "#how to do a time delta, how to add or subtract days\n",
    "\n",
    "#local date\n",
    "tday = datetime.date.today()\n",
    "\n",
    "tdelta = datetime.timedelta(days=7)\n",
    "\n",
    "print(tday + tdelta)"
   ]
  },
  {
   "cell_type": "code",
   "execution_count": 4,
   "metadata": {},
   "outputs": [
    {
     "name": "stdout",
     "output_type": "stream",
     "text": [
      "29\n"
     ]
    }
   ],
   "source": [
    "import datetime\n",
    "\n",
    "# how to find the number of days between to dates\n",
    "tday = datetime.date.today()\n",
    "\n",
    "tdelta = datetime.timedelta(days=7)\n",
    "\n",
    "bday = datetime.date(2020, 10, 12)\n",
    "\n",
    "till_bday = bday - tday\n",
    "\n",
    "print(till_bday.days)\n"
   ]
  },
  {
   "cell_type": "code",
   "execution_count": 6,
   "metadata": {},
   "outputs": [
    {
     "name": "stdout",
     "output_type": "stream",
     "text": [
      "09:30:45.100000\n"
     ]
    }
   ],
   "source": [
    "import datetime\n",
    "# how to work in time not just days\n",
    "t = datetime.time(9, 30, 45, 100000)\n",
    "print(t)"
   ]
  },
  {
   "cell_type": "code",
   "execution_count": 10,
   "metadata": {},
   "outputs": [
    {
     "name": "stdout",
     "output_type": "stream",
     "text": [
      "2020-09-13 12:30:45.100000\n"
     ]
    }
   ],
   "source": [
    "import datetime\n",
    "#how to get date and time\n",
    "dt = datetime.datetime(2020, 9, 13, 12, 30, 45, 100000)\n",
    "print(dt)"
   ]
  },
  {
   "cell_type": "code",
   "execution_count": 12,
   "metadata": {},
   "outputs": [
    {
     "name": "stdout",
     "output_type": "stream",
     "text": [
      "2020-09-20 12:30:45.100000\n"
     ]
    }
   ],
   "source": [
    "# how to use datetime.datetime to add or subtract days or hours from a datetime\n",
    "import datetime\n",
    "\n",
    "dt = datetime.datetime(2020, 9, 13, 12, 30, 45, 100000)\n",
    "tdelta = datetime.timedelta(days=7)\n",
    "\n",
    "print(dt + tdelta)"
   ]
  },
  {
   "cell_type": "code",
   "execution_count": null,
   "metadata": {},
   "outputs": [],
   "source": [
    "# how to use datetime.datetime to add or subtract days or hours from a datetime\n",
    "import datetime\n",
    "\n",
    "dt = datetime.datetime(2020, 9, 13, 12, 30, 45, 100000)\n",
    "tdelta = datetime.timedelta(hours=30)\n",
    "\n",
    "print(dt + tdelta)"
   ]
  },
  {
   "cell_type": "code",
   "execution_count": null,
   "metadata": {},
   "outputs": [],
   "source": [
    "#how to print date and time \n",
    "import datetime\n",
    "dt_today = datetime.datetime.today()\n",
    "dt_now = datetime.datetime.now()\n",
    "dt_utcnow = datetime.datetime.utcnow()\n",
    "\n",
    "print(dt_today)\n",
    "print(dt_now)\n",
    "print(dt_utcnow)"
   ]
  },
  {
   "cell_type": "code",
   "execution_count": 14,
   "metadata": {},
   "outputs": [
    {
     "name": "stdout",
     "output_type": "stream",
     "text": [
      "2020-09-13 12:30:45+00:00\n"
     ]
    }
   ],
   "source": [
    "#how to print date and time that is timezone aware\n",
    "import datetime\n",
    "\n",
    "import pytz\n",
    "\n",
    "dt = datetime.datetime(2020, 9, 13, 12, 30,45, tzinfo=pytz.utc)\n",
    "\n",
    "print(dt)\n",
    "\n"
   ]
  },
  {
   "cell_type": "code",
   "execution_count": 15,
   "metadata": {},
   "outputs": [
    {
     "name": "stdout",
     "output_type": "stream",
     "text": [
      "2020-09-13 12:30:45+00:00\n",
      "2020-09-13 19:51:14.051124+00:00\n",
      "2020-09-13 19:51:14.051124+00:00\n"
     ]
    }
   ],
   "source": [
    "#how to print date and time that is timezone aware\n",
    "import datetime\n",
    "\n",
    "import pytz\n",
    "\n",
    "dt = datetime.datetime(2020, 9, 13, 12, 30,45, tzinfo=pytz.utc)\n",
    "print(dt)\n",
    "\n",
    "dt_now = datetime.datetime.now(tz=pytz.UTC)\n",
    "print(dt_now)\n",
    "\n",
    "dt_utcnow = datetime.datetime.utcnow().replace(tzinfo=pytz.UTC)\n",
    "print(dt_now)\n"
   ]
  },
  {
   "cell_type": "code",
   "execution_count": 16,
   "metadata": {},
   "outputs": [
    {
     "name": "stdout",
     "output_type": "stream",
     "text": [
      "2020-09-13 19:53:57.595795+00:00\n",
      "2020-09-13 13:53:57.595795-06:00\n"
     ]
    }
   ],
   "source": [
    "#how to convert to a different timezone\n",
    "import datetime\n",
    "\n",
    "import pytz\n",
    "\n",
    "dt_utcnow = datetime.datetime.utcnow().replace(tzinfo=pytz.UTC)\n",
    "print(dt_utcnow)\n",
    "\n",
    "dt_mtn = dt_utcnow.astimezone(pytz.timezone('US/Mountain'))\n",
    "print(dt_mtn)"
   ]
  },
  {
   "cell_type": "code",
   "execution_count": null,
   "metadata": {},
   "outputs": [],
   "source": [
    "#how to find the different timezones for pytz\n",
    "\n",
    "for tz in pytz.all_timezones:\n",
    "    print(tz)"
   ]
  },
  {
   "cell_type": "code",
   "execution_count": 19,
   "metadata": {},
   "outputs": [
    {
     "name": "stdout",
     "output_type": "stream",
     "text": [
      "2020-09-13 19:59:39.524059+00:00\n",
      "2020-09-13 15:59:39.524059-04:00\n"
     ]
    }
   ],
   "source": [
    "#how to convert a local time that is not timezone aware to another timezone\n",
    "import datetime\n",
    "\n",
    "import pytz\n",
    "\n",
    "dt_utcnow = datetime.datetime.now(tz=pytz.UTC)\n",
    "print(dt_utcnow)\n",
    "\n",
    "dt_mtn = datetime.datetime.now()\n",
    "mtn_tz = pytz.timezone('US/Mountain')\n",
    "\n",
    "dt_mtn = mtn_tz.localize(dt_mtn)\n",
    "\n",
    "dt_east = dt_mtn.astimezone(pytz.timezone('US/Eastern'))\n",
    "print(dt_east)"
   ]
  },
  {
   "cell_type": "code",
   "execution_count": 23,
   "metadata": {},
   "outputs": [
    {
     "name": "stdout",
     "output_type": "stream",
     "text": [
      "2020-09-13T14:06:55.454728-06:00\n",
      "September 13, 2020\n",
      "2020-09-13 00:00:00\n"
     ]
    }
   ],
   "source": [
    "#how to display a date and time in isoformat\n",
    "import datetime\n",
    "\n",
    "import pytz\n",
    "\n",
    "dt_mtn = datetime.datetime.now(tz=pytz.timezone('US/Mountain'))\n",
    "print(dt_mtn.isoformat())\n",
    "print(dt_mtn.strftime('%B %d, %Y'))\n",
    "\n",
    "dt_str = \"September 13, 2020\"\n",
    "\n",
    "dt = datetime.datetime.strptime(dt_str, \"%B %d, %Y\")\n",
    "print(dt)\n",
    "#\"strftime\" converts a datetime to a string\n",
    "#\"strptime\" converts a string to a datetime"
   ]
  },
  {
   "cell_type": "code",
   "execution_count": null,
   "metadata": {},
   "outputs": [],
   "source": []
  }
 ],
 "metadata": {
  "kernelspec": {
   "display_name": "Python 3",
   "language": "python",
   "name": "python3"
  },
  "language_info": {
   "codemirror_mode": {
    "name": "ipython",
    "version": 3
   },
   "file_extension": ".py",
   "mimetype": "text/x-python",
   "name": "python",
   "nbconvert_exporter": "python",
   "pygments_lexer": "ipython3",
   "version": "3.8.3"
  }
 },
 "nbformat": 4,
 "nbformat_minor": 4
}
